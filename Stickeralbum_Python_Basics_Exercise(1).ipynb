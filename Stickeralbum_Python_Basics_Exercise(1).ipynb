{
 "cells": [
  {
   "cell_type": "markdown",
   "metadata": {},
   "source": [
    "# The Sticker Album Challange\n",
    "\n",
    "## Solution with Python Standard Library\n"
   ]
  },
  {
   "cell_type": "markdown",
   "metadata": {},
   "source": [
    "## 1. Getting startet...one simulation"
   ]
  },
  {
   "cell_type": "markdown",
   "metadata": {},
   "source": [
    "Your Sticker Album has a capacity of 600 unique Stickers (consecutively numbered from 1 to 600) and your budget allows you to buy 800 stickers, hoping to complete the album with max 200 duplicates...(naive start of the game...)\n",
    "\n",
    "We assign \n",
    "- __600__ to the variable __album_capacity__\n",
    "- __800__ to the variable __purchased_stickers__"
   ]
  },
  {
   "cell_type": "code",
   "execution_count": 86,
   "metadata": {},
   "outputs": [],
   "source": [
    "album_capacity = 600\n",
    "purchased_stickers = 800"
   ]
  },
  {
   "cell_type": "markdown",
   "metadata": {},
   "source": [
    "Before we can simulate the random purchase of stickers, we have to __import the \"random\" module__ first..."
   ]
  },
  {
   "cell_type": "code",
   "execution_count": 87,
   "metadata": {},
   "outputs": [],
   "source": [
    "import random"
   ]
  },
  {
   "cell_type": "markdown",
   "metadata": {},
   "source": [
    "Now let´s simulate the random __purchase of one sticker__. Use __random.randint__ and keep in mind that stickers are consecutively numbered from __1 to 600__."
   ]
  },
  {
   "cell_type": "code",
   "execution_count": 88,
   "metadata": {
    "scrolled": true
   },
   "outputs": [
    {
     "data": {
      "text/plain": [
       "524"
      ]
     },
     "execution_count": 88,
     "metadata": {},
     "output_type": "execute_result"
    }
   ],
   "source": [
    "random.randint(1,600)"
   ]
  },
  {
   "cell_type": "markdown",
   "metadata": {
    "collapsed": true
   },
   "source": [
    "Alright, that works. Let´s now simulate the random __purchase of 800 stickers__ by using a __for loop__ (using __range(purchased_stickers)__). <br> <br>  Before we start looping, we need to \n",
    "- buy our Sticker album by __creating an empty list__ called __album__\n",
    "- set __random.seed__ to __123__ in order to create \"pseudo-random\" numbers which enables you to exactly replicate my simulation process.<br><br>\n",
    "\n",
    "Once we have finished these two steps, we can \n",
    "- use a __for loop__\n",
    "- __name__ each randomly created number __sticker__\n",
    "- and __append__ each sticker to our __album__. "
   ]
  },
  {
   "cell_type": "code",
   "execution_count": 89,
   "metadata": {},
   "outputs": [],
   "source": [
    "album = []\n",
    "random.seed(123)\n",
    "for ticket in range(purchased_stickers):\n",
    "    album.append(random.randint(1,600))\n",
    "    "
   ]
  },
  {
   "cell_type": "markdown",
   "metadata": {
    "collapsed": true
   },
   "source": [
    "Let´s inspect our album by __printing__ it and verify that the total number of stickers is indeed 800 (__len(album)__). "
   ]
  },
  {
   "cell_type": "code",
   "execution_count": 90,
   "metadata": {
    "scrolled": true
   },
   "outputs": [
    {
     "name": "stdout",
     "output_type": "stream",
     "text": [
      "[54, 275, 90, 418, 273, 111, 40, 389, 550, 576, 341, 349, 54, 164, 139, 346, 575, 342, 252, 168, 2, 447, 90, 387, 72, 7, 324, 460, 105, 45, 95, 146, 130, 22, 299, 441, 588, 489, 272, 481, 38, 313, 352, 535, 495, 212, 540, 579, 323, 13, 408, 526, 445, 552, 498, 534, 430, 384, 523, 33, 186, 85, 499, 269, 175, 343, 346, 568, 401, 76, 468, 397, 587, 345, 17, 194, 91, 373, 14, 361, 235, 416, 545, 514, 62, 295, 507, 239, 558, 496, 182, 158, 550, 456, 388, 473, 46, 11, 138, 468, 198, 22, 263, 361, 279, 445, 431, 1, 112, 65, 523, 364, 91, 85, 444, 9, 549, 387, 76, 560, 414, 30, 331, 269, 484, 34, 576, 343, 425, 357, 25, 168, 430, 66, 148, 382, 241, 81, 59, 532, 397, 551, 314, 150, 299, 399, 378, 130, 548, 346, 530, 123, 171, 396, 443, 64, 140, 466, 22, 358, 461, 462, 312, 440, 29, 163, 535, 333, 530, 528, 570, 141, 352, 513, 108, 559, 378, 231, 584, 349, 96, 279, 519, 250, 209, 330, 271, 408, 45, 513, 83, 202, 518, 205, 18, 199, 275, 579, 237, 88, 325, 86, 350, 568, 551, 137, 548, 139, 496, 505, 408, 29, 264, 592, 498, 349, 406, 230, 514, 130, 7, 507, 352, 599, 126, 54, 370, 472, 371, 431, 324, 368, 222, 460, 352, 198, 186, 392, 64, 425, 385, 513, 272, 180, 573, 386, 378, 71, 304, 126, 272, 515, 330, 57, 390, 53, 398, 306, 111, 477, 588, 333, 249, 457, 273, 450, 577, 586, 353, 255, 467, 514, 589, 282, 346, 50, 187, 127, 21, 439, 509, 136, 489, 548, 44, 482, 555, 145, 334, 379, 227, 33, 475, 517, 296, 595, 15, 329, 396, 234, 65, 260, 292, 173, 427, 367, 436, 45, 14, 509, 169, 203, 48, 276, 538, 170, 544, 199, 311, 512, 479, 230, 290, 541, 95, 106, 454, 559, 571, 287, 200, 534, 70, 402, 417, 460, 114, 62, 584, 444, 447, 530, 366, 158, 506, 138, 200, 217, 248, 39, 251, 214, 76, 414, 27, 12, 423, 330, 561, 31, 43, 253, 447, 299, 191, 312, 116, 290, 333, 218, 528, 27, 371, 157, 478, 231, 425, 228, 523, 446, 401, 574, 194, 400, 79, 509, 44, 294, 143, 488, 110, 130, 125, 472, 362, 566, 18, 456, 534, 362, 296, 372, 219, 400, 49, 109, 521, 98, 333, 85, 211, 394, 185, 429, 130, 487, 144, 6, 167, 89, 339, 34, 101, 150, 225, 469, 441, 206, 415, 62, 58, 156, 118, 473, 93, 138, 43, 368, 451, 212, 245, 241, 442, 350, 147, 92, 10, 299, 336, 411, 354, 235, 63, 60, 564, 67, 113, 256, 295, 241, 129, 571, 1, 557, 270, 431, 569, 377, 380, 134, 427, 35, 297, 359, 321, 4, 359, 519, 3, 302, 82, 388, 189, 334, 456, 108, 547, 204, 409, 73, 197, 211, 367, 438, 493, 291, 567, 558, 168, 397, 28, 267, 32, 166, 198, 375, 189, 104, 140, 104, 277, 125, 76, 370, 59, 261, 370, 134, 259, 421, 95, 267, 532, 568, 123, 548, 124, 338, 294, 316, 451, 241, 6, 96, 116, 104, 452, 398, 368, 185, 136, 397, 1, 426, 215, 246, 5, 428, 133, 86, 179, 549, 274, 432, 173, 400, 313, 67, 25, 125, 583, 404, 273, 583, 55, 557, 193, 318, 319, 561, 347, 24, 149, 316, 292, 205, 438, 218, 510, 47, 433, 68, 158, 175, 49, 564, 228, 65, 460, 593, 195, 411, 584, 445, 548, 374, 77, 222, 92, 450, 44, 548, 319, 32, 214, 37, 160, 538, 101, 52, 422, 484, 394, 342, 187, 415, 439, 107, 90, 45, 222, 156, 140, 598, 310, 374, 523, 431, 270, 291, 421, 189, 547, 542, 563, 94, 3, 595, 148, 533, 104, 465, 253, 565, 491, 31, 381, 304, 477, 383, 292, 552, 577, 347, 204, 174, 41, 384, 54, 600, 100, 503, 382, 432, 182, 108, 75, 238, 588, 393, 140, 519, 102, 500, 539, 238, 538, 510, 344, 323, 427, 274, 346, 493, 181, 241, 105, 55, 529, 148, 378, 42, 144, 151, 172, 409, 184, 572, 256, 521, 188, 498, 513, 6, 482, 160, 284, 359, 518, 450, 231, 69, 438, 484, 406, 327, 49, 440, 427, 91, 336, 455, 475, 15, 115, 39, 362, 374, 329, 245, 562, 576, 488, 350, 240, 34, 190, 130, 460, 208, 481, 439, 15, 357, 129, 276, 366, 558, 319, 74, 355, 211, 49, 121, 572, 132, 530, 11, 498, 528, 431, 410, 512, 66, 193, 188, 358, 235, 337, 425, 501, 120, 406, 76, 368, 522, 385, 105, 201, 264, 92, 124, 378, 180, 195, 85, 67, 433, 460, 448, 459, 42, 425, 53, 97, 307, 520, 403, 386, 341]\n"
     ]
    }
   ],
   "source": [
    "#print album\n",
    "print(album)"
   ]
  },
  {
   "cell_type": "code",
   "execution_count": 91,
   "metadata": {},
   "outputs": [
    {
     "data": {
      "text/plain": [
       "800"
      ]
     },
     "execution_count": 91,
     "metadata": {},
     "output_type": "execute_result"
    }
   ],
   "source": [
    "#check the length of album\n",
    "len(album)"
   ]
  },
  {
   "cell_type": "markdown",
   "metadata": {},
   "source": [
    "Do you think we have a complete album and our naive approach is working? Let´s check how many __unique Stickers__ and how many __duplicates__ we have. We should at least have 200 duplicates that we cannot paste into the album.<br><br> Use __set(list)__ to transform the list object album into a __set object__ and we get all unique stickers (assign the variable __unique__)."
   ]
  },
  {
   "cell_type": "code",
   "execution_count": 92,
   "metadata": {},
   "outputs": [],
   "source": [
    "unique = set(album)"
   ]
  },
  {
   "cell_type": "markdown",
   "metadata": {},
   "source": [
    "Use the __len() function__ to determine the number of unique stickers in our album."
   ]
  },
  {
   "cell_type": "code",
   "execution_count": 93,
   "metadata": {},
   "outputs": [
    {
     "data": {
      "text/plain": [
       "451"
      ]
     },
     "execution_count": 93,
     "metadata": {},
     "output_type": "execute_result"
    }
   ],
   "source": [
    "len(unique)"
   ]
  },
  {
   "cell_type": "markdown",
   "metadata": {},
   "source": [
    "Ok, we have __451 unique stickers__. Our album is 75% complete. "
   ]
  },
  {
   "cell_type": "markdown",
   "metadata": {},
   "source": [
    "Let´s make a crosscheck and get all duplicates by\n",
    "- Creating a copy (__list.copy()__) of album and assign the variable __duplicates__.\n",
    "- remove from duplicates all elements of unique (__list.remove()__). Hint: iterate over all elements of unique and remove them from duplicates."
   ]
  },
  {
   "cell_type": "code",
   "execution_count": 94,
   "metadata": {},
   "outputs": [],
   "source": [
    "duplicates = list.copy(album)\n",
    "for element in unique:\n",
    "    duplicates.remove(element)\n"
   ]
  },
  {
   "cell_type": "markdown",
   "metadata": {},
   "source": [
    "Print duplicates and determine the __amount (len()) of duplicates__. Should be __349__."
   ]
  },
  {
   "cell_type": "code",
   "execution_count": 95,
   "metadata": {},
   "outputs": [
    {
     "data": {
      "text/plain": [
       "349"
      ]
     },
     "execution_count": 95,
     "metadata": {},
     "output_type": "execute_result"
    }
   ],
   "source": [
    "len(duplicates)"
   ]
  },
  {
   "cell_type": "markdown",
   "metadata": {
    "collapsed": true
   },
   "source": [
    "This works. Now let us focus on our task to write code that reflects reality. We can only add/paste a sticker to our album, if it is not already in our album. Therefore we should __introduce an if statement__ that is checking __if__ each randomly created __sticker__ is already __in__ our __album__. \n",
    "- If the sticker is already in our album, we are doing nothing (__pass__), \n",
    "- otherwise (__else__) we __append the sticker to our album__.\n",
    "\n",
    "__Copy__ the Code a few lines above and __include the if statement__ and then run the code again.  "
   ]
  },
  {
   "cell_type": "code",
   "execution_count": 96,
   "metadata": {},
   "outputs": [],
   "source": [
    "album = []\n",
    "random.seed(123)\n",
    "\n",
    "for i in range(purchased_stickers):\n",
    "    sticker = (random.randint(1,600))\n",
    "    if sticker in album: \n",
    "        pass\n",
    "    else: \n",
    "        album.append(sticker)"
   ]
  },
  {
   "cell_type": "markdown",
   "metadata": {
    "collapsed": true
   },
   "source": [
    "Perfect, let´s again inspect our album...How many __unique stickers__ do we have?"
   ]
  },
  {
   "cell_type": "code",
   "execution_count": 97,
   "metadata": {},
   "outputs": [
    {
     "name": "stdout",
     "output_type": "stream",
     "text": [
      "[54, 275, 90, 418, 273, 111, 40, 389, 550, 576, 341, 349, 164, 139, 346, 575, 342, 252, 168, 2, 447, 387, 72, 7, 324, 460, 105, 45, 95, 146, 130, 22, 299, 441, 588, 489, 272, 481, 38, 313, 352, 535, 495, 212, 540, 579, 323, 13, 408, 526, 445, 552, 498, 534, 430, 384, 523, 33, 186, 85, 499, 269, 175, 343, 568, 401, 76, 468, 397, 587, 345, 17, 194, 91, 373, 14, 361, 235, 416, 545, 514, 62, 295, 507, 239, 558, 496, 182, 158, 456, 388, 473, 46, 11, 138, 198, 263, 279, 431, 1, 112, 65, 364, 444, 9, 549, 560, 414, 30, 331, 484, 34, 425, 357, 25, 66, 148, 382, 241, 81, 59, 532, 551, 314, 150, 399, 378, 548, 530, 123, 171, 396, 443, 64, 140, 466, 358, 461, 462, 312, 440, 29, 163, 333, 528, 570, 141, 513, 108, 559, 231, 584, 96, 519, 250, 209, 330, 271, 83, 202, 518, 205, 18, 199, 237, 88, 325, 86, 350, 137, 505, 264, 592, 406, 230, 599, 126, 370, 472, 371, 368, 222, 392, 385, 180, 573, 386, 71, 304, 515, 57, 390, 53, 398, 306, 477, 249, 457, 450, 577, 586, 353, 255, 467, 589, 282, 50, 187, 127, 21, 439, 509, 136, 44, 482, 555, 145, 334, 379, 227, 475, 517, 296, 595, 15, 329, 234, 260, 292, 173, 427, 367, 436, 169, 203, 48, 276, 538, 170, 544, 311, 512, 479, 290, 541, 106, 454, 571, 287, 200, 70, 402, 417, 114, 366, 506, 217, 248, 39, 251, 214, 27, 12, 423, 561, 31, 43, 253, 191, 116, 218, 157, 478, 228, 446, 574, 400, 79, 294, 143, 488, 110, 125, 362, 566, 372, 219, 49, 109, 521, 98, 211, 394, 185, 429, 487, 144, 6, 167, 89, 339, 101, 225, 469, 206, 415, 58, 156, 118, 93, 451, 245, 442, 147, 92, 10, 336, 411, 354, 63, 60, 564, 67, 113, 256, 129, 557, 270, 569, 377, 380, 134, 35, 297, 359, 321, 4, 3, 302, 82, 189, 547, 204, 409, 73, 197, 438, 493, 291, 567, 28, 267, 32, 166, 375, 104, 277, 261, 259, 421, 124, 338, 316, 452, 426, 215, 246, 5, 428, 133, 179, 274, 432, 583, 404, 55, 193, 318, 319, 347, 24, 149, 510, 47, 433, 68, 593, 195, 374, 77, 37, 160, 52, 422, 107, 598, 310, 542, 563, 94, 533, 465, 565, 491, 381, 383, 174, 41, 600, 100, 503, 75, 238, 393, 102, 500, 539, 344, 181, 529, 42, 151, 172, 184, 572, 188, 284, 69, 327, 455, 115, 562, 240, 190, 208, 74, 355, 121, 132, 410, 337, 501, 120, 522, 201, 448, 459, 97, 307, 520, 403]\n"
     ]
    }
   ],
   "source": [
    "#print album\n",
    "print(album)"
   ]
  },
  {
   "cell_type": "code",
   "execution_count": 98,
   "metadata": {},
   "outputs": [
    {
     "data": {
      "text/plain": [
       "451"
      ]
     },
     "execution_count": 98,
     "metadata": {},
     "output_type": "execute_result"
    }
   ],
   "source": [
    "#check the length of album\n",
    "len(album)"
   ]
  },
  {
   "cell_type": "markdown",
   "metadata": {
    "collapsed": true
   },
   "source": [
    "Since we used the same random.seed parameter (123) we end up with the same result as before, __451 unique stickers__. This is disappointing as we require further 149 stickers to complete our album.  <br><br>\n",
    "Ok this was one simulation and maybe we had just bad luck... Let´s simulate this process many times (__many simulations__) and get many data points instead of only one data point. The resulting __probability distribution of all simulations__ will give us more information about what we can expect.  "
   ]
  },
  {
   "cell_type": "markdown",
   "metadata": {
    "collapsed": true
   },
   "source": [
    "## 2. Getting  probabilistic...with many simulations"
   ]
  },
  {
   "cell_type": "markdown",
   "metadata": {
    "collapsed": true
   },
   "source": [
    "Allright let´s start smoothly and set the number of simulations (variable __sims__) to __10__."
   ]
  },
  {
   "cell_type": "code",
   "execution_count": 99,
   "metadata": {},
   "outputs": [],
   "source": [
    "sims = 10"
   ]
  },
  {
   "cell_type": "markdown",
   "metadata": {
    "collapsed": true
   },
   "source": [
    "__Copy__ the code block from above and __add at the very top__: \n",
    "- an __empty list called results__ where you can store the result of each simulation (length of each album)\n",
    "- start another (outer) __for loop (range(sims))__ to make 10 simulations/albums.\n",
    "\n",
    " "
   ]
  },
  {
   "cell_type": "markdown",
   "metadata": {},
   "source": [
    "Next:\n",
    "- Calculate and assign the __length__ of each album __(len(album))__\n",
    "- At the very bottom of the outer for loop, __append__ the length of each album to the list __results__\n",
    "- mind the __indents__!"
   ]
  },
  {
   "cell_type": "code",
   "execution_count": 100,
   "metadata": {},
   "outputs": [],
   "source": [
    "results = []\n",
    "random.seed(123)\n",
    "for simulation in range(sims):\n",
    "    album = []\n",
    "\n",
    "    for i in range(purchased_stickers):\n",
    "        sticker = (random.randint(1,600))\n",
    "        if sticker in album: \n",
    "            pass\n",
    "        else: \n",
    "            album.append(sticker)\n",
    "    \n",
    "    length = len(album)\n",
    "    results.append(length)\n",
    "    "
   ]
  },
  {
   "cell_type": "markdown",
   "metadata": {
    "collapsed": true
   },
   "source": [
    "Let´s inspect the results... Do you notice anything strange?"
   ]
  },
  {
   "cell_type": "code",
   "execution_count": 101,
   "metadata": {},
   "outputs": [
    {
     "data": {
      "text/plain": [
       "[451, 446, 446, 444, 451, 435, 450, 436, 441, 447]"
      ]
     },
     "execution_count": 101,
     "metadata": {},
     "output_type": "execute_result"
    }
   ],
   "source": [
    "results"
   ]
  },
  {
   "cell_type": "markdown",
   "metadata": {
    "collapsed": true
   },
   "source": [
    "We have ten albums __each__ of them having __451 unique stickers__. Is this by chance? No!<br>\n",
    "We need to place the __random.seed__ statement __outside both for_loops__ to the very top of our code!\n",
    "<br>Let´s rearrange above and inspect the results again!..."
   ]
  },
  {
   "cell_type": "markdown",
   "metadata": {},
   "source": [
    "OK now we get __different results__ and it looks like it´s not really getting better than 451!"
   ]
  },
  {
   "cell_type": "markdown",
   "metadata": {},
   "source": [
    "Let´s further __increase simulations to 1000__ to further reduce the impact of randomness (random noise). This is important when we later calculate statistics like mean, median, etc.<br><br>\n",
    "Let´s continue. Copy the above code block and add __sims = 1000__ at the very top and run the code."
   ]
  },
  {
   "cell_type": "code",
   "execution_count": 102,
   "metadata": {},
   "outputs": [],
   "source": [
    "results = []\n",
    "random.seed(123)\n",
    "sims = 1000\n",
    "for simulation in range(sims):\n",
    "    album = []\n",
    "\n",
    "    for i in range(purchased_stickers):\n",
    "        sticker = (random.randint(1,600))\n",
    "        if sticker in album: \n",
    "            pass\n",
    "        else: \n",
    "            album.append(sticker)\n",
    "    \n",
    "    length = len(album)\n",
    "    results.append(length)\n",
    "    "
   ]
  },
  {
   "cell_type": "markdown",
   "metadata": {},
   "source": [
    "Make a sanity check and call __len(results)__. This should be __1000__!"
   ]
  },
  {
   "cell_type": "code",
   "execution_count": 103,
   "metadata": {},
   "outputs": [
    {
     "data": {
      "text/plain": [
       "1000"
      ]
     },
     "execution_count": 103,
     "metadata": {},
     "output_type": "execute_result"
    }
   ],
   "source": [
    "len(results)"
   ]
  },
  {
   "cell_type": "markdown",
   "metadata": {},
   "source": [
    "## 3. Analyzing results and calculating statistics"
   ]
  },
  {
   "cell_type": "markdown",
   "metadata": {},
   "source": [
    "Perfect! Now it´s time to inspect our results in a more detailed way. Let´s calculate \n",
    "- the Minimum using __min()__ --> assign __Min__\n",
    "- the Maximum using __max()__ --> assign __Max__\n",
    "- the Mean using __sum()/len()__ --> assign __Mean__\n",
    "- the Median using __def Median()__ --> assign __Median__\n"
   ]
  },
  {
   "cell_type": "code",
   "execution_count": 104,
   "metadata": {},
   "outputs": [],
   "source": [
    "#min\n",
    "Min = min(results)"
   ]
  },
  {
   "cell_type": "code",
   "execution_count": 105,
   "metadata": {},
   "outputs": [],
   "source": [
    "#Max\n",
    "Max = max(results)"
   ]
  },
  {
   "cell_type": "code",
   "execution_count": 106,
   "metadata": {},
   "outputs": [],
   "source": [
    "#Mean\n",
    "Mean = sum(results)/len(results)"
   ]
  },
  {
   "cell_type": "code",
   "execution_count": 107,
   "metadata": {},
   "outputs": [
    {
     "data": {
      "text/plain": [
       "443.0"
      ]
     },
     "execution_count": 107,
     "metadata": {},
     "output_type": "execute_result"
    }
   ],
   "source": [
    "#nothing to code here\n",
    "def Med(lst):\n",
    "    n = len(lst)\n",
    "    if n < 1:\n",
    "            return None\n",
    "    if n % 2 == 1:\n",
    "            return sorted(lst)[n//2]\n",
    "    else:\n",
    "            return sum(sorted(lst)[n//2-1:n//2+1])/2.0\n",
    "Median = Med(results)\n",
    "Median"
   ]
  },
  {
   "cell_type": "markdown",
   "metadata": {},
   "source": [
    "On average we can expect approx. __442 unique__ stickers. But what could be more intuitive than __visualizing__ our  results to have a better understanding of the __probability distribution__ of results???\n",
    "<br><br>Let´s first \n",
    "- __import matplotlib.pyplot as plt__. \n",
    "- we require __%matplotlib inline__\n",
    "- and we set style to __\"seaborn\"__ (__plt.style.use()__)"
   ]
  },
  {
   "cell_type": "code",
   "execution_count": 108,
   "metadata": {},
   "outputs": [],
   "source": [
    "import matplotlib.pyplot as plt\n",
    "%matplotlib inline\n",
    "plt.style.use(\"seaborn\")"
   ]
  },
  {
   "cell_type": "markdown",
   "metadata": {},
   "source": [
    "Ok, we should visualize our results with a __Histogramm__, using __plt.hist()__.<br><br>Therefore we set\n",
    "the parameter __bins__ equal to __(Max-Min+1)__ and add\n",
    "- x-axis label (__plt.xlabel()__) with __\"Number of Unique Stickers\"__\n",
    "- y-axis label (__plt.ylabel()__) with __\"No. of Occurences\"__\n",
    "- title (__plt.title()__) with __\"No. of unique Stickers with Album capacity of 600 and 600 Purchased Stickers\"__\n"
   ]
  },
  {
   "cell_type": "code",
   "execution_count": 109,
   "metadata": {},
   "outputs": [
    {
     "data": {
      "text/plain": [
       "Text(0.5, 1.0, 'No. of unique Stickers with Album capacity of 600 and 600 Purhcased Stickers')"
      ]
     },
     "execution_count": 109,
     "metadata": {},
     "output_type": "execute_result"
    },
    {
     "data": {
      "image/png": "[encoded data removed]",
      "text/plain": [
       "<Figure size 576x396 with 1 Axes>"
      ]
     },
     "metadata": {},
     "output_type": "display_data"
    }
   ],
   "source": [
    "plt.hist(results,bins=Max-Min+1)\n",
    "plt.xlabel(\"Number of Unique Stickers\")\n",
    "plt.ylabel(\"No. of Occurences\")\n",
    "plt.title(\"No. of unique Stickers with Album capacity of 600 and 600 Purhcased Stickers\")"
   ]
  },
  {
   "cell_type": "markdown",
   "metadata": {},
   "source": [
    "## 4. Automation by writing a Function"
   ]
  },
  {
   "cell_type": "markdown",
   "metadata": {},
   "source": [
    "We can be proud of our project so far, but what if we want to change \n",
    "- the __album_capacity__\n",
    "- the number of __purchased_stickers__\n",
    "- the number of simulations (__sims__) we want to perform\n",
    "\n",
    "in order to perform __more complex analysis__ and __optimizations__ to solve more advanced problems?\n",
    "\n",
    "We should __automate__ our project by __writing a function__!"
   ]
  },
  {
   "cell_type": "markdown",
   "metadata": {},
   "source": [
    "Let´s define (__def__) a function called __StickerAlbum()__ with the following __parameters__ and __default values__ inside the parentheses:\n",
    "- __album_capacity__ = 600\n",
    "- __purchased_stickers__ = 800\n",
    "- __sims__ = 1000\n",
    "- __seed__ = 123\n",
    "\n",
    "This is called the __Function Header__.\n",
    "\n",
    "Add a return statement: __return__ the string __\"This is the result of Stickeralbum()\"__ in order to have a working function in the first place."
   ]
  },
  {
   "cell_type": "code",
   "execution_count": 110,
   "metadata": {},
   "outputs": [],
   "source": [
    "def StickerAlbum(album_capacity=600,purchased_stickers=800,sims=1000,seed=123):\n",
    "    return \"This is the result of StickerAlbum()\"\n",
    "    "
   ]
  },
  {
   "cell_type": "markdown",
   "metadata": {},
   "source": [
    "__Call__ the function with __default parameters__ (simply __Stickeralbum()__) to check if everything is working so far."
   ]
  },
  {
   "cell_type": "code",
   "execution_count": 111,
   "metadata": {},
   "outputs": [
    {
     "data": {
      "text/plain": [
       "'This is the result of StickerAlbum()'"
      ]
     },
     "execution_count": 111,
     "metadata": {},
     "output_type": "execute_result"
    }
   ],
   "source": [
    "StickerAlbum()"
   ]
  },
  {
   "cell_type": "markdown",
   "metadata": {},
   "source": [
    "Perfect. So far we only have a Function Header and a more or less senseless return statement.<br><br> Now we need to add the __Function Body__. Therefore, __copy__ our __running code__ from a few cells above and __paste__ it as function body.<br> We need to make a few __adjustments__ to the Function Body:\n",
    "- insert __parameter names__ where required\n",
    "- the function shall __return__ the __Mean of all simulations/results__, hence we need to define and calculate the __Mean__.\n",
    "\n",
    "Finally, we want to __return__ the __Mean__ as the function´s result.\n",
    "\n",
    "Pay attention to various __indents__!"
   ]
  },
  {
   "cell_type": "code",
   "execution_count": 112,
   "metadata": {},
   "outputs": [],
   "source": [
    "def StickerAlbum(album_capacity = 600, purchased_stickers = 800, sims = 1000, seed = 123):\n",
    "    results =[]\n",
    "    random.seed(seed)\n",
    "    for m in range(sims):\n",
    "        album = []\n",
    "        for i in range(purchased_stickers):\n",
    "            sticker = (random.randint(1,album_capacity))\n",
    "            if sticker in album:\n",
    "                pass\n",
    "            else:\n",
    "                album.append(sticker)\n",
    "        length = len(album)\n",
    "        results.append(length)\n",
    "    Mean =  sum(results)/len(results)\n",
    "    return Mean"
   ]
  },
  {
   "cell_type": "markdown",
   "metadata": {},
   "source": [
    "Alright, let´s check if everything is __correct__ and if we get the __same__ Mean as before (__442.44__). __Call StickerAlbum()__ with default parameters. "
   ]
  },
  {
   "cell_type": "code",
   "execution_count": 113,
   "metadata": {},
   "outputs": [
    {
     "data": {
      "text/plain": [
       "442.44"
      ]
     },
     "execution_count": 113,
     "metadata": {},
     "output_type": "execute_result"
    }
   ],
   "source": [
    "StickerAlbum()"
   ]
  },
  {
   "cell_type": "markdown",
   "metadata": {},
   "source": [
    "Wow, this is magic.<br><br> Now let´s __variate__ our parameters. __How many stickers__ do we have to buy to end up with a __Mean of 550__ stickers?<br> __Call the StickerAlbum()__ function many times and start with __purchased_stickers = 1485__ and __add 1__ in each consecutive call until we get at least __550__ as result."
   ]
  },
  {
   "cell_type": "code",
   "execution_count": 114,
   "metadata": {},
   "outputs": [
    {
     "data": {
      "text/plain": [
       "550.017"
      ]
     },
     "execution_count": 114,
     "metadata": {},
     "output_type": "execute_result"
    }
   ],
   "source": [
    "StickerAlbum(purchased_stickers=1491)"
   ]
  },
  {
   "cell_type": "markdown",
   "metadata": {},
   "source": [
    "__1,491 stickers__ should do the job, right? <br><br>You might have noticed some __variability__ in the results, not only going up but sometimes also __going down__ when adding additional stickers. No mistake, simply the curse of randomness and statistics.<br><br> To __reduce random noise__ we need to __increase the number of simulations__. In statistics __10,000 simulations__ is a widely used number of simulations that results in acceptable variability of results.<br><br> Let´s simulate __1,491__ purchased_stickers __10,000__ times...  "
   ]
  },
  {
   "cell_type": "code",
   "execution_count": 115,
   "metadata": {},
   "outputs": [
    {
     "data": {
      "text/plain": [
       "550.0731"
      ]
     },
     "execution_count": 115,
     "metadata": {},
     "output_type": "execute_result"
    }
   ],
   "source": [
    "StickerAlbum(purchased_stickers=1491,sims=10000)"
   ]
  },
  {
   "cell_type": "markdown",
   "metadata": {},
   "source": [
    "Ok now your computer is having a tough time, 10,000 simulations __take some time and energy__...but __variability is much lower__ now and therefore __accuracy of our function is higher__!"
   ]
  },
  {
   "cell_type": "markdown",
   "metadata": {},
   "source": [
    "Apparently __basic Python__ has now __reached its limits__ with regard to __speed and performance__. But before we move to __the NumPy package__ to increase performance, we still want to __answer some more advanced questions__ with basic Python. __10 simulations__ should do the job as well for our purposes."
   ]
  },
  {
   "cell_type": "markdown",
   "metadata": {},
   "source": [
    "But before let´s __measure the speed__ of our function with __%timeit__ and compare it later with NumPy performance (after the statement __%timeit__, call our function StickerAlbum() with __default__ values)."
   ]
  },
  {
   "cell_type": "code",
   "execution_count": 116,
   "metadata": {},
   "outputs": [
    {
     "name": "stdout",
     "output_type": "stream",
     "text": [
      "4.57 s ± 328 ms per loop (mean ± std. dev. of 7 runs, 1 loop each)\n"
     ]
    }
   ],
   "source": [
    "%timeit StickerAlbum()"
   ]
  },
  {
   "cell_type": "markdown",
   "metadata": {},
   "source": [
    "## 5. Solving (some) advanced Problems / Optimization"
   ]
  },
  {
   "cell_type": "markdown",
   "metadata": {},
   "source": [
    "We figured out that, on average, we need to purchase 1,491 stickers in order to receive 550 unique stickers. However this was solved manually by __trial and error__. Now it´s up to you to create an __algorithm__ that __solves for the number of required stickers__. Start with simple/inefficient solutions and then try to increase smartness/complexity to improve performance.  "
   ]
  },
  {
   "cell_type": "markdown",
   "metadata": {},
   "source": [
    "### Naive / Inefficient Solution"
   ]
  },
  {
   "cell_type": "markdown",
   "metadata": {},
   "source": [
    "Hint: Our __target__ is __550 unique stickers__, and we start randomly with 800 purchased_stickers (__random_start = 800__). <br>Call the StickerAlbum() function with these parameters (__purchased_stickers = random_start__) and then __increase random_start__ __by 1__ until we reach our target. A __while loop__ may help! <br>Note: __10 simulations__ are enough (sims = 10)!"
   ]
  },
  {
   "cell_type": "code",
   "execution_count": 117,
   "metadata": {},
   "outputs": [],
   "source": [
    "#create the variables target and random_start\n",
    "target = 550\n",
    "random_start = 800"
   ]
  },
  {
   "cell_type": "code",
   "execution_count": 118,
   "metadata": {},
   "outputs": [
    {
     "name": "stdout",
     "output_type": "stream",
     "text": [
      "444.7\n"
     ]
    }
   ],
   "source": [
    "#call the function StickerAlbum() and assign the variable result to the function´s output \n",
    "result = StickerAlbum(purchased_stickers=random_start,sims=10)\n",
    "print(result)"
   ]
  },
  {
   "cell_type": "code",
   "execution_count": 122,
   "metadata": {},
   "outputs": [],
   "source": [
    "#use a while loop that checks if result < target, and if so, increase random_start by 1 and recalculate result.\n",
    "#Print random_start and result for each iteration.\n",
    "while result < target:\n",
    "    random_start+=1\n",
    "    result = StickerAlbum(purchased_stickers=random_start, sims = 10)\n",
    "    print(random_start, result)\n",
    "    "
   ]
  },
  {
   "cell_type": "code",
   "execution_count": 123,
   "metadata": {},
   "outputs": [
    {
     "name": "stdout",
     "output_type": "stream",
     "text": [
      "2038\n"
     ]
    }
   ],
   "source": [
    "#print the \"final\" random_start \n",
    "print(random_start)"
   ]
  },
  {
   "cell_type": "code",
   "execution_count": null,
   "metadata": {},
   "outputs": [],
   "source": []
  }
 ],
 "metadata": {
  "kernelspec": {
   "display_name": "Python 3",
   "language": "python",
   "name": "python3"
  }
 },
 "nbformat": 4,
 "nbformat_minor": 2
}
